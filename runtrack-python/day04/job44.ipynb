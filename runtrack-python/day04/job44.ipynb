{
 "cells": [
  {
   "cell_type": "code",
   "execution_count": 1,
   "metadata": {},
   "outputs": [],
   "source": [
    "def is_identical(str1, str2) :\n",
    "    if len(str1)==0 and len(str2)==0 :\n",
    "        return(True)\n",
    "    if len(str2)==0 :\n",
    "        return(False)\n",
    "    all_star = True\n",
    "    for char in str2 :\n",
    "        all_star = all_star and (char=='*')\n",
    "    if all_star :\n",
    "        return(True)\n",
    "    if len(str1)==0 :\n",
    "        return(False)\n",
    "    if str2[0]!='*' :\n",
    "        if str1[0]==str2[0] :\n",
    "            return(is_identical(str1[1:], str2[1:]))\n",
    "        else :\n",
    "            return(False)\n",
    "    else :\n",
    "        length_1 = len(str1)\n",
    "        for k in range(length_1) :\n",
    "            if is_identical(str1[k:], str2[1:]) :\n",
    "                return(True)\n",
    "        return(False)"
   ]
  },
  {
   "cell_type": "code",
   "execution_count": 3,
   "metadata": {},
   "outputs": [
    {
     "data": {
      "text/plain": [
       "True"
      ]
     },
     "execution_count": 3,
     "metadata": {},
     "output_type": "execute_result"
    }
   ],
   "source": [
    "is_identical('laplateforme', 'lap*')"
   ]
  },
  {
   "cell_type": "code",
   "execution_count": 2,
   "metadata": {},
   "outputs": [
    {
     "data": {
      "text/plain": [
       "True"
      ]
     },
     "execution_count": 2,
     "metadata": {},
     "output_type": "execute_result"
    }
   ],
   "source": [
    "is_identical('laplateforme', 'l*a*pla*te*form***e')"
   ]
  },
  {
   "cell_type": "code",
   "execution_count": 5,
   "metadata": {},
   "outputs": [
    {
     "data": {
      "text/plain": [
       "False"
      ]
     },
     "execution_count": 5,
     "metadata": {},
     "output_type": "execute_result"
    }
   ],
   "source": [
    "is_identical('laplateforme', 'la**m*for*')"
   ]
  },
  {
   "cell_type": "code",
   "execution_count": null,
   "metadata": {},
   "outputs": [],
   "source": []
  }
 ],
 "metadata": {
  "kernelspec": {
   "display_name": "algo",
   "language": "python",
   "name": "python3"
  },
  "language_info": {
   "codemirror_mode": {
    "name": "ipython",
    "version": 3
   },
   "file_extension": ".py",
   "mimetype": "text/x-python",
   "name": "python",
   "nbconvert_exporter": "python",
   "pygments_lexer": "ipython3",
   "version": "3.9.0"
  },
  "orig_nbformat": 4
 },
 "nbformat": 4,
 "nbformat_minor": 2
}
