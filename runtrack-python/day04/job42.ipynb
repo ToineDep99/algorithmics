{
 "cells": [
  {
   "cell_type": "code",
   "execution_count": 1,
   "metadata": {},
   "outputs": [],
   "source": [
    "import numpy as np\n",
    "\n",
    "def cell_available(row, col, board) :\n",
    "    n = len(board)\n",
    "    if board[row][col]=='X' :\n",
    "        return(False)\n",
    "    directions = [(1,0), (0,1), (-1,0), (0,-1), (1,1), (-1,-1), (1,-1), (-1,1)]\n",
    "    res = True\n",
    "    for k in range(1,n) :\n",
    "        for x,y in directions :\n",
    "            if 0<=row+k*x<n and 0<=col+k*y<n :\n",
    "                res = res and (board[row+k*x][col+k*y]=='O')\n",
    "    return(res)\n",
    "\n",
    "def list_available(board) :\n",
    "    n = len(board)\n",
    "    res = []\n",
    "    for row in range(n) :\n",
    "        for col in range(n) :\n",
    "            if cell_available(row, col, board) :\n",
    "                res.append((row, col))\n",
    "    return(res)\n",
    "\n",
    "def print_board(board) :\n",
    "    for row in board :\n",
    "        line = ''\n",
    "        for cell in row :\n",
    "            line += cell+' '\n",
    "        print(line)\n",
    "\n",
    "def one_turn(board) :\n",
    "    cells = list_available(board)\n",
    "    if len(cells)==0 :\n",
    "        return(board)\n",
    "    else :\n",
    "        m = len(cells)\n",
    "        row, col = cells[np.random.choice(m)]\n",
    "        board[row][col]='X'\n",
    "        return(one_turn(board))\n",
    "\n",
    "def checkers(n) :\n",
    "    board = [['O' for j in range(n)] for i in range(n)]\n",
    "    return(one_turn(board))"
   ]
  },
  {
   "cell_type": "code",
   "execution_count": 2,
   "metadata": {},
   "outputs": [
    {
     "name": "stdout",
     "output_type": "stream",
     "text": [
      "O X O O O O O O O O \n",
      "O O O O O O O X O O \n",
      "O O X O O O O O O O \n",
      "O O O O O O O O O O \n",
      "O O O O O O X O O O \n",
      "X O O O O O O O O O \n",
      "O O O X O O O O O O \n",
      "O O O O O X O O O O \n",
      "O O O O O O O O O O \n",
      "O O O O O O O O X O \n"
     ]
    }
   ],
   "source": [
    "sol = checkers(10)\n",
    "print_board(sol)"
   ]
  },
  {
   "cell_type": "code",
   "execution_count": null,
   "metadata": {},
   "outputs": [],
   "source": []
  }
 ],
 "metadata": {
  "kernelspec": {
   "display_name": "algo",
   "language": "python",
   "name": "python3"
  },
  "language_info": {
   "codemirror_mode": {
    "name": "ipython",
    "version": 3
   },
   "file_extension": ".py",
   "mimetype": "text/x-python",
   "name": "python",
   "nbconvert_exporter": "python",
   "pygments_lexer": "ipython3",
   "version": "3.9.0"
  },
  "orig_nbformat": 4
 },
 "nbformat": 4,
 "nbformat_minor": 2
}
