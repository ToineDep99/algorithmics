{
 "cells": [
  {
   "cell_type": "code",
   "execution_count": 1,
   "id": "9696b568-b193-44f8-80d7-22cd0578e065",
   "metadata": {},
   "outputs": [],
   "source": [
    "import re"
   ]
  },
  {
   "cell_type": "code",
   "execution_count": 2,
   "id": "5056a5d4-88dd-4c60-b844-5c34ce73c5f4",
   "metadata": {},
   "outputs": [
    {
     "name": "stdout",
     "output_type": "stream",
     "text": [
      "Number of domain extensions : 30\n"
     ]
    }
   ],
   "source": [
    "with open('domains.xml', 'r') as f :\n",
    "    dom = f.read()\n",
    "\n",
    "x = re.findall('(?:domain\">.*\\.)(.*)(?:<)', dom)\n",
    "print('Number of domain extensions :', len(set(x)))"
   ]
  }
 ],
 "metadata": {
  "kernelspec": {
   "display_name": "Python 3 (ipykernel)",
   "language": "python",
   "name": "python3"
  },
  "language_info": {
   "codemirror_mode": {
    "name": "ipython",
    "version": 3
   },
   "file_extension": ".py",
   "mimetype": "text/x-python",
   "name": "python",
   "nbconvert_exporter": "python",
   "pygments_lexer": "ipython3",
   "version": "3.9.0"
  }
 },
 "nbformat": 4,
 "nbformat_minor": 5
}
