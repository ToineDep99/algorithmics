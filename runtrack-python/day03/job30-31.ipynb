{
 "cells": [
  {
   "cell_type": "markdown",
   "id": "ea1a06ed",
   "metadata": {},
   "source": [
    "### Job 3.0"
   ]
  },
  {
   "cell_type": "code",
   "execution_count": 1,
   "id": "0aaa147f-cf6f-48c8-8133-953e13ebbc56",
   "metadata": {},
   "outputs": [],
   "source": [
    "text = input('Your text :')\n",
    "with open('output.txt', 'w') as f :\n",
    "    f.write(text)"
   ]
  },
  {
   "cell_type": "markdown",
   "id": "63780028",
   "metadata": {},
   "source": [
    "### Job 3.1"
   ]
  },
  {
   "cell_type": "code",
   "execution_count": 2,
   "id": "6dd6b7d0-c5c8-4055-8b49-44975d56e86c",
   "metadata": {},
   "outputs": [
    {
     "name": "stdout",
     "output_type": "stream",
     "text": [
      "May the force be with you\n"
     ]
    }
   ],
   "source": [
    "with open('output.txt', 'r') as f :\n",
    "    text = f.read()\n",
    "print(text)"
   ]
  },
  {
   "cell_type": "code",
   "execution_count": null,
   "id": "b0c613d6",
   "metadata": {},
   "outputs": [],
   "source": []
  }
 ],
 "metadata": {
  "kernelspec": {
   "display_name": "Python 3 (ipykernel)",
   "language": "python",
   "name": "python3"
  },
  "language_info": {
   "codemirror_mode": {
    "name": "ipython",
    "version": 3
   },
   "file_extension": ".py",
   "mimetype": "text/x-python",
   "name": "python",
   "nbconvert_exporter": "python",
   "pygments_lexer": "ipython3",
   "version": "3.9.0"
  }
 },
 "nbformat": 4,
 "nbformat_minor": 5
}
