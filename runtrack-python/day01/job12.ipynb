{
 "cells": [
  {
   "cell_type": "code",
   "execution_count": 5,
   "id": "23b301c6-8ddd-4dbd-a561-e63870b4217a",
   "metadata": {},
   "outputs": [],
   "source": [
    "def draw_triangle(h) :\n",
    "    for i in range(h) :\n",
    "        if i!=(h-1) :\n",
    "            print(' '*(h-i-1)+'/'+' '*2*i+'\\\\'+' '*(h-i-1))\n",
    "        else :\n",
    "            print('/'+'_'*2*(h-1)+'\\\\')\n",
    "        #print(' '*(h-1)+'/'+'_'*2*(h-1)+'\\\\'+' '*(h-1))"
   ]
  },
  {
   "cell_type": "code",
   "execution_count": 6,
   "id": "c91d032c-56e8-4409-8bc1-afa913989e76",
   "metadata": {},
   "outputs": [
    {
     "name": "stdout",
     "output_type": "stream",
     "text": [
      "    /\\    \n",
      "   /  \\   \n",
      "  /    \\  \n",
      " /      \\ \n",
      "/________\\\n"
     ]
    }
   ],
   "source": [
    "draw_triangle(5)"
   ]
  }
 ],
 "metadata": {
  "kernelspec": {
   "display_name": "Python 3 (ipykernel)",
   "language": "python",
   "name": "python3"
  },
  "language_info": {
   "codemirror_mode": {
    "name": "ipython",
    "version": 3
   },
   "file_extension": ".py",
   "mimetype": "text/x-python",
   "name": "python",
   "nbconvert_exporter": "python",
   "pygments_lexer": "ipython3",
   "version": "3.9.0"
  }
 },
 "nbformat": 4,
 "nbformat_minor": 5
}
