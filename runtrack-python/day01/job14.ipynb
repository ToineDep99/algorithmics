{
 "cells": [
  {
   "cell_type": "code",
   "execution_count": 9,
   "id": "dab3d5f1-c8bb-42fc-9044-0d809cd14906",
   "metadata": {},
   "outputs": [],
   "source": [
    "def in_desc_order(str) :\n",
    "    n = len(str)\n",
    "    b = True\n",
    "    for i in range(n-1) :\n",
    "        b = b and str[i]>str[i+1]\n",
    "    return(b)\n",
    "\n",
    "def order_str(str) :\n",
    "    res = str\n",
    "    n = len(str)\n",
    "    for i in range(n, 0, -1) :\n",
    "        for j in range(i-1) :\n",
    "            if res[j]>res[j+1] :\n",
    "                res = res[:j]+res[j+1]+res[j]+res[j+2:]\n",
    "    return(res)\n",
    "\n",
    "def next(str) :\n",
    "    n = len(str)\n",
    "    for i in range(2,n+1) :\n",
    "        end = str[-i:]\n",
    "        if (not in_desc_order(end)) :\n",
    "            end = end[1]+order_str(end[0]+end[2:])\n",
    "            return(str[:-i]+end)\n",
    "    return(str)"
   ]
  },
  {
   "cell_type": "code",
   "execution_count": 10,
   "id": "3b690145-5c6a-4570-b5bb-6863f0d87f8b",
   "metadata": {},
   "outputs": [
    {
     "data": {
      "text/plain": [
       "'abced'"
      ]
     },
     "execution_count": 10,
     "metadata": {},
     "output_type": "execute_result"
    }
   ],
   "source": [
    "next('abcde')"
   ]
  },
  {
   "cell_type": "code",
   "execution_count": null,
   "id": "b68ed383-63e1-4cde-a329-b31ac8b391e9",
   "metadata": {},
   "outputs": [],
   "source": []
  }
 ],
 "metadata": {
  "kernelspec": {
   "display_name": "Python 3 (ipykernel)",
   "language": "python",
   "name": "python3"
  },
  "language_info": {
   "codemirror_mode": {
    "name": "ipython",
    "version": 3
   },
   "file_extension": ".py",
   "mimetype": "text/x-python",
   "name": "python",
   "nbconvert_exporter": "python",
   "pygments_lexer": "ipython3",
   "version": "3.9.0"
  }
 },
 "nbformat": 4,
 "nbformat_minor": 5
}
