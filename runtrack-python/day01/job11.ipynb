{
 "cells": [
  {
   "cell_type": "code",
   "execution_count": 3,
   "id": "0dcb1d65-0dc4-4947-8ae0-f9f2a94e4837",
   "metadata": {},
   "outputs": [],
   "source": [
    "def draw_rectangle(w, h) :\n",
    "    print('|'+'-'*(w-2)+'|'*(w>1))\n",
    "    for i in range(h-2) :\n",
    "        print('|'+' '*(w-2)+'|')\n",
    "    if h>1 :\n",
    "        print('|'+'-'*(w-2)+'|'*(w>1))"
   ]
  },
  {
   "cell_type": "code",
   "execution_count": 4,
   "id": "36d82ab4-7719-4087-959c-16849ee0cbe9",
   "metadata": {},
   "outputs": [
    {
     "name": "stdout",
     "output_type": "stream",
     "text": [
      "|--------|\n",
      "|        |\n",
      "|--------|\n"
     ]
    }
   ],
   "source": [
    "draw_rectangle(10, 3)"
   ]
  }
 ],
 "metadata": {
  "kernelspec": {
   "display_name": "Python 3 (ipykernel)",
   "language": "python",
   "name": "python3"
  },
  "language_info": {
   "codemirror_mode": {
    "name": "ipython",
    "version": 3
   },
   "file_extension": ".py",
   "mimetype": "text/x-python",
   "name": "python",
   "nbconvert_exporter": "python",
   "pygments_lexer": "ipython3",
   "version": "3.9.0"
  }
 },
 "nbformat": 4,
 "nbformat_minor": 5
}
