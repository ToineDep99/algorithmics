{
 "cells": [
  {
   "cell_type": "code",
   "execution_count": null,
   "id": "f449fd59",
   "metadata": {},
   "outputs": [],
   "source": [
    "import numpy as np"
   ]
  },
  {
   "cell_type": "code",
   "execution_count": 7,
   "id": "69367a1a-fbc5-4b0d-a70e-433527a5d7b8",
   "metadata": {},
   "outputs": [],
   "source": [
    "def round_notes(lst) :\n",
    "    print(lst)\n",
    "    res = []\n",
    "    for elem in lst :\n",
    "        if elem<=40 :\n",
    "            res.append(elem)\n",
    "        else :\n",
    "            if elem%5<3 :\n",
    "                res.append(elem)\n",
    "            else :\n",
    "                res.append((elem//5+1)*5)\n",
    "    return(res)"
   ]
  },
  {
   "cell_type": "code",
   "execution_count": 8,
   "id": "07e51780-4b84-405c-a60e-71f2c0a3391b",
   "metadata": {},
   "outputs": [
    {
     "name": "stdout",
     "output_type": "stream",
     "text": [
      "[ 38  99  76   4 100  77  92  74  17  54  90  25  72   4  53  93  25  37\n",
      "   8  43]\n"
     ]
    },
    {
     "data": {
      "text/plain": [
       "[38, 100, 76, 4, 100, 77, 92, 75, 17, 55, 90, 25, 72, 4, 55, 95, 25, 37, 8, 45]"
      ]
     },
     "execution_count": 8,
     "metadata": {},
     "output_type": "execute_result"
    }
   ],
   "source": [
    "round_notes(np.random.randint(0, 101, 20))"
   ]
  }
 ],
 "metadata": {
  "kernelspec": {
   "display_name": "Python 3 (ipykernel)",
   "language": "python",
   "name": "python3"
  },
  "language_info": {
   "codemirror_mode": {
    "name": "ipython",
    "version": 3
   },
   "file_extension": ".py",
   "mimetype": "text/x-python",
   "name": "python",
   "nbconvert_exporter": "python",
   "pygments_lexer": "ipython3",
   "version": "3.9.0"
  }
 },
 "nbformat": 4,
 "nbformat_minor": 5
}
