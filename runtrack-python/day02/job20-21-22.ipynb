{
 "cells": [
  {
   "cell_type": "code",
   "execution_count": 1,
   "id": "206c5096-0c63-47d1-8312-3a3111e72124",
   "metadata": {},
   "outputs": [],
   "source": [
    "import numpy as np"
   ]
  },
  {
   "cell_type": "markdown",
   "id": "85b9404d",
   "metadata": {},
   "source": [
    "### Job 2.0"
   ]
  },
  {
   "cell_type": "code",
   "execution_count": 2,
   "id": "6b4e8cf2-b4e5-4995-8039-a2bb0915a528",
   "metadata": {},
   "outputs": [],
   "source": [
    "class Person :\n",
    "    def __init__(self, name, firstname) :\n",
    "        self.__name = name\n",
    "        self.__firstname = firstname\n",
    "\n",
    "    def SePresenter(self) :\n",
    "        print(f'{self.__firstname} {self.__name}')\n",
    "\n",
    "    def get_name(self) :\n",
    "        return(self.__name)\n",
    "\n",
    "    def get_firstname(self) :\n",
    "        return(self.__firstname)\n",
    "\n",
    "    def set_name(self, name) :\n",
    "        self.__name = name\n",
    "\n",
    "    def set_firstname(self, firstname) :\n",
    "        self.__firstname = firstname\n"
   ]
  },
  {
   "cell_type": "code",
   "execution_count": 3,
   "id": "f18058c7-7810-4259-b4b1-7c0842943c7d",
   "metadata": {},
   "outputs": [],
   "source": [
    "perso1 = Person('Gabin', 'Jean')"
   ]
  },
  {
   "cell_type": "code",
   "execution_count": 4,
   "id": "3a03b68e-3ebb-4689-8487-c713c08e2dee",
   "metadata": {},
   "outputs": [
    {
     "data": {
      "text/plain": [
       "'Gabin'"
      ]
     },
     "execution_count": 4,
     "metadata": {},
     "output_type": "execute_result"
    }
   ],
   "source": [
    "perso1.get_name()"
   ]
  },
  {
   "cell_type": "markdown",
   "id": "dd8ca786",
   "metadata": {},
   "source": [
    "### Job 2.1"
   ]
  },
  {
   "cell_type": "code",
   "execution_count": 5,
   "id": "69f8e9cc-e75d-4098-bcb6-55d79423d2b0",
   "metadata": {},
   "outputs": [],
   "source": [
    "class Book :\n",
    "    def __init__(self, title, author) :\n",
    "        self.__title = title\n",
    "        self.__author = author\n",
    "\n",
    "    def print(self) :\n",
    "        print(self.__title)\n",
    "\n",
    "    def get_title(self) :\n",
    "        return(self.__title)"
   ]
  },
  {
   "cell_type": "code",
   "execution_count": 6,
   "id": "00d272c4-8254-4ab4-bc96-c5882136cf43",
   "metadata": {},
   "outputs": [],
   "source": [
    "class Author(Person) :\n",
    "    def __init__(self, name, firstname) :\n",
    "        self.__work = []\n",
    "        Person.__init__(self, name, firstname)\n",
    "\n",
    "    def get_work(self) :\n",
    "        return(self.__work)\n",
    "\n",
    "    def listerWork(self) :\n",
    "        print(f'Work of {self.get_firstname()} {self.get_name()} :')\n",
    "        for book in self.__work :\n",
    "            book.print()\n",
    "    \n",
    "    def writeABook(self, title) :\n",
    "        book = Book(title, self)\n",
    "        self.__work.append(book)"
   ]
  },
  {
   "cell_type": "code",
   "execution_count": 7,
   "id": "08469fac-fe27-4e25-b9f7-80d422a06179",
   "metadata": {},
   "outputs": [],
   "source": [
    "JRRT = Author('Tolkien', 'John R. R.')\n",
    "JRRT.writeABook(\"La Communauté de l'Anneau\")\n",
    "JRRT.writeABook('Les Deux Tours')\n",
    "JRRT.writeABook('Le Retour du Roi')"
   ]
  },
  {
   "cell_type": "code",
   "execution_count": 8,
   "id": "7dcad4c6-8500-416a-93bc-c7af780fbede",
   "metadata": {},
   "outputs": [
    {
     "name": "stdout",
     "output_type": "stream",
     "text": [
      "Work of John R. R. Tolkien :\n",
      "La Communauté de l'Anneau\n",
      "Les Deux Tours\n",
      "Le Retour du Roi\n"
     ]
    }
   ],
   "source": [
    "JRRT.listerWork()"
   ]
  },
  {
   "cell_type": "markdown",
   "id": "94d90ec1",
   "metadata": {},
   "source": [
    "### Job 2.2"
   ]
  },
  {
   "cell_type": "code",
   "execution_count": 9,
   "id": "f1d0c206-b1e9-4fd0-b65f-6391ffbe60d3",
   "metadata": {},
   "outputs": [],
   "source": [
    "class Customer(Person) :\n",
    "    def __init__(self, name, firstname) :\n",
    "        Person.__init__(self, name, firstname)\n",
    "        self.__collection = []\n",
    "\n",
    "    def get_collection(self) :\n",
    "        return(self.__collection)\n",
    "\n",
    "    def set_collection(self, col) :\n",
    "        self.__collection = col\n",
    "\n",
    "    def add_title(self, title) :\n",
    "        self.__collection.append(title)\n",
    "\n",
    "    def inventory(self) :\n",
    "        if len(self.__collection) == 0 :\n",
    "            print('Empty inventory')\n",
    "        else :\n",
    "            for title in self.__collection :\n",
    "                print(f'Title : {title}')"
   ]
  },
  {
   "cell_type": "code",
   "execution_count": 10,
   "id": "05cc7f93-e638-4cac-9a07-a51cc3193b82",
   "metadata": {},
   "outputs": [],
   "source": [
    "class Library :\n",
    "    def __init__(self, name, dict) :\n",
    "        self.__name = name\n",
    "        self.__catalog = dict\n",
    "\n",
    "    def get_catalog(self) :\n",
    "        return(self.__catalog)\n",
    "\n",
    "    def add_book(self, title) :\n",
    "        \"\"\"We consider the title already exists in self\"\"\"\n",
    "        self.__catalog[title] += 1\n",
    "\n",
    "    def buyBook(self, author, title, qty) :\n",
    "        b = False\n",
    "        for book in author.get_work() :\n",
    "            b = b or (title == book.get_title())\n",
    "        if not b :\n",
    "            print(\"Title not in author's work\")\n",
    "        else :\n",
    "            if title in self.__catalog.keys() :\n",
    "                self.__catalog[title] += qty\n",
    "            else :\n",
    "                self.__catalog[title] = qty\n",
    "\n",
    "    def inventory(self) :\n",
    "        for key in self.__catalog.keys() :\n",
    "            print(f'Title : {key}, Quantity : {self.__catalog[key]}')\n",
    "\n",
    "    def rent(self, client, title) :\n",
    "        if title in self.__catalog.keys() :\n",
    "            if self.__catalog[title] != 0 :\n",
    "                self.__catalog[title] -= 1\n",
    "                client.add_title(title)\n",
    "            else :\n",
    "                print('Title no more in inventory')\n",
    "        else :\n",
    "            print('Title not registered')\n",
    "\n",
    "    def renderBooks(self, client) :\n",
    "        for title in client.get_collection() :\n",
    "            self.add_book(title)\n",
    "        client.set_collection([])"
   ]
  },
  {
   "cell_type": "code",
   "execution_count": 11,
   "id": "b8cad171-c4c5-4d1e-9ff7-efb9107c000d",
   "metadata": {},
   "outputs": [],
   "source": [
    "lib = Library('Librairie', {})"
   ]
  },
  {
   "cell_type": "code",
   "execution_count": 12,
   "id": "bf28e04d-78a8-4a6c-96ff-1fbf35c25c6d",
   "metadata": {},
   "outputs": [],
   "source": [
    "lib.buyBook(JRRT, 'Les Deux Tours', 5)"
   ]
  },
  {
   "cell_type": "code",
   "execution_count": 13,
   "id": "4ce9f6d3-dd1e-4317-b80e-1431e8c4fffa",
   "metadata": {},
   "outputs": [
    {
     "data": {
      "text/plain": [
       "{'Les Deux Tours': 5}"
      ]
     },
     "execution_count": 13,
     "metadata": {},
     "output_type": "execute_result"
    }
   ],
   "source": [
    "lib.get_catalog()"
   ]
  },
  {
   "cell_type": "code",
   "execution_count": 14,
   "id": "254eed40-9d14-491c-8c30-1612f56902a2",
   "metadata": {},
   "outputs": [
    {
     "name": "stdout",
     "output_type": "stream",
     "text": [
      "Title : Les Deux Tours, Quantity : 5\n"
     ]
    }
   ],
   "source": [
    "lib.inventory()"
   ]
  },
  {
   "cell_type": "code",
   "execution_count": 15,
   "id": "07414425-5da2-4adb-a9eb-0a812ef768a0",
   "metadata": {},
   "outputs": [],
   "source": [
    "client1 = Customer('Durand', 'Pierre')"
   ]
  },
  {
   "cell_type": "code",
   "execution_count": 16,
   "id": "009ca092-a716-4066-ae76-9cacb26e57aa",
   "metadata": {},
   "outputs": [],
   "source": [
    "lib.rent(client1, 'Les Deux Tours')"
   ]
  },
  {
   "cell_type": "code",
   "execution_count": 17,
   "id": "6e63df2b-7704-462d-839c-c8f96d7a563b",
   "metadata": {},
   "outputs": [
    {
     "name": "stdout",
     "output_type": "stream",
     "text": [
      "Title : Les Deux Tours, Quantity : 4\n",
      "Title : Les Deux Tours\n"
     ]
    }
   ],
   "source": [
    "lib.inventory()\n",
    "client1.inventory()"
   ]
  },
  {
   "cell_type": "code",
   "execution_count": 18,
   "id": "c9f41127-49c9-4b3e-b98b-befa7783b81d",
   "metadata": {},
   "outputs": [],
   "source": [
    "lib.renderBooks(client1)"
   ]
  },
  {
   "cell_type": "code",
   "execution_count": 19,
   "id": "30c18adb-3008-4d3d-aa36-20b28060a015",
   "metadata": {},
   "outputs": [
    {
     "name": "stdout",
     "output_type": "stream",
     "text": [
      "Title : Les Deux Tours, Quantity : 5\n",
      "Empty inventory\n"
     ]
    }
   ],
   "source": [
    "lib.inventory()\n",
    "client1.inventory()"
   ]
  },
  {
   "cell_type": "code",
   "execution_count": null,
   "id": "c377c7c0-c037-4987-815e-640a5a4abcd4",
   "metadata": {},
   "outputs": [],
   "source": []
  }
 ],
 "metadata": {
  "kernelspec": {
   "display_name": "Python 3 (ipykernel)",
   "language": "python",
   "name": "python3"
  },
  "language_info": {
   "codemirror_mode": {
    "name": "ipython",
    "version": 3
   },
   "file_extension": ".py",
   "mimetype": "text/x-python",
   "name": "python",
   "nbconvert_exporter": "python",
   "pygments_lexer": "ipython3",
   "version": "3.9.0"
  }
 },
 "nbformat": 4,
 "nbformat_minor": 5
}
